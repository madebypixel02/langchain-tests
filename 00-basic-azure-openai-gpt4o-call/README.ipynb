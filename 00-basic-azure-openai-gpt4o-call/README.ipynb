{
  "cells": [
    {
      "cell_type": "markdown",
      "metadata": {},
      "source": [
        "# Langchain Tests\n",
        "\n",
        "GenAI Tests\n",
        "\n",
        "Alejandro Pérez Bueno  \n",
        "Oct 25, 2024\n",
        "\n",
        "## Install dependencies\n",
        "\n",
        "``` python\n",
        "pip install langchain\n",
        "```"
      ],
      "id": "0ed7aea6-b8d5-495b-a889-0a49ad53a331"
    }
  ],
  "nbformat": 4,
  "nbformat_minor": 5,
  "metadata": {
    "kernelspec": {
      "display_name": "Python 3",
      "language": "python",
      "name": "python3"
    }
  }
}